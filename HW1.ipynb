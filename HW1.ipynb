{
 "cells": [
  {
   "cell_type": "code",
   "execution_count": 1,
   "metadata": {
    "collapsed": false
   },
   "outputs": [],
   "source": [
    "%matplotlib inline\n",
    "from scipy .io import loadmat\n",
    "ocr = loadmat('ocr.mat')"
   ]
  },
  {
   "cell_type": "code",
   "execution_count": 2,
   "metadata": {
    "collapsed": false
   },
   "outputs": [
    {
     "data": {
      "text/plain": [
       "{'__globals__': [],\n",
       " '__header__': 'MATLAB 5.0 MAT-file, Platform: MACI64, Created on: Thu Jan 22 15:05:26 2015',\n",
       " '__version__': '1.0',\n",
       " 'data': array([[0, 0, 0, ..., 0, 0, 0],\n",
       "        [0, 0, 0, ..., 0, 0, 0],\n",
       "        [0, 0, 0, ..., 0, 0, 0],\n",
       "        ..., \n",
       "        [0, 0, 0, ..., 0, 0, 0],\n",
       "        [0, 0, 0, ..., 0, 0, 0],\n",
       "        [0, 0, 0, ..., 0, 0, 0]], dtype=uint8),\n",
       " 'labels': array([[5],\n",
       "        [0],\n",
       "        [4],\n",
       "        ..., \n",
       "        [5],\n",
       "        [6],\n",
       "        [8]], dtype=uint8),\n",
       " 'testdata': array([[0, 0, 0, ..., 0, 0, 0],\n",
       "        [0, 0, 0, ..., 0, 0, 0],\n",
       "        [0, 0, 0, ..., 0, 0, 0],\n",
       "        ..., \n",
       "        [0, 0, 0, ..., 0, 0, 0],\n",
       "        [0, 0, 0, ..., 0, 0, 0],\n",
       "        [0, 0, 0, ..., 0, 0, 0]], dtype=uint8),\n",
       " 'testlabels': array([[7],\n",
       "        [2],\n",
       "        [1],\n",
       "        ..., \n",
       "        [4],\n",
       "        [5],\n",
       "        [6]], dtype=uint8)}"
      ]
     },
     "execution_count": 2,
     "metadata": {},
     "output_type": "execute_result"
    }
   ],
   "source": [
    "ocr\n"
   ]
  },
  {
   "cell_type": "code",
   "execution_count": 3,
   "metadata": {
    "collapsed": false
   },
   "outputs": [
    {
     "data": {
      "text/plain": [
       "<matplotlib.image.AxesImage at 0x101423190>"
      ]
     },
     "execution_count": 3,
     "metadata": {},
     "output_type": "execute_result"
    },
    {
     "data": {
      "image/png": "[encoded data removed]",
      "text/plain": [
       "<matplotlib.figure.Figure at 0x103d847d0>"
      ]
     },
     "metadata": {},
     "output_type": "display_data"
    }
   ],
   "source": [
    "import matplotlib.pyplot as plt\n",
    "from matplotlib import cm\n",
    "plt.imshow(ocr['data'][0].reshape((28 ,28)), cmap=cm.gray_r)\n"
   ]
  },
  {
   "cell_type": "code",
   "execution_count": 13,
   "metadata": {
    "collapsed": false
   },
   "outputs": [],
   "source": [
    "def oneNN(X_train, X_test, Y_train):\n",
    "    e_distance = np.sqrt(np.linalg.norm(X_train)**2 + np.linalg.norm(X_test)**2 - 2*np.dot(X_train, np.transpose(X_test)))\n",
    "    d_labels = np.hstack((e_distance, Y_train))\n",
    "    preds_col = d_labels[:,0:len(X_test)].argmin(axis = 0) \n",
    "    preds = np.transpose(d_labels[[preds_col],10000])\n",
    "\n",
    "    return preds"
   ]
  },
  {
   "cell_type": "code",
   "execution_count": 14,
   "metadata": {
    "collapsed": false
   },
   "outputs": [],
   "source": [
    "import numpy as np\n",
    "import random\n",
    "from __future__ import division\n",
    "n = [1000, 2000, 4000, 8000]\n",
    "\n",
    "list_errors = []\n",
    "\n",
    "for i in n:\n",
    "    error_rates = []\n",
    "    for j in range(1,11):\n",
    "        sel = random.sample(xrange(60000),i)\n",
    "\n",
    "        train_data = df_norm[sel].astype(float) \n",
    "        labels = ocr['labels'][sel].astype(float)\n",
    "        test_data = dft_norm.astype(float)\n",
    "        test_labels = ocr['testlabels'].astype(float)\n",
    "    \n",
    "        preds = oneNN(train_data, test_data, labels)\n",
    "        preds2 = (preds-test_labels).tolist()\n",
    "    \n",
    "        preds_list = []\n",
    "        for x in preds2:\n",
    "            for y in x:\n",
    "                preds_list.append(y)\n",
    "\n",
    "        preds = (1-(preds_list.count(0)/len(preds_list)))        \n",
    "        error_rates.append(preds)\n",
    "    \n",
    "    list_errors.append(error_rates)\n",
    "        "
   ]
  },
  {
   "cell_type": "code",
   "execution_count": 15,
   "metadata": {
    "collapsed": false
   },
   "outputs": [],
   "source": [
    "import pandas as pd\n",
    "\n",
    "df_errors = pd.DataFrame(list_errors).transpose()\n",
    "df_errors.columns = [\"1000\",\"2000\",\"4000\",\"8000\"]\n",
    "\n",
    "df_std = df_errors.std(axis = 0)\n",
    "df_mean = df_errors.mean(axis = 0)\n",
    "\n",
    "df_total = pd.concat([df_std, df_mean], axis = 1)\n",
    "df_total.columns = [\"Standard_Dev\", \"Mean\"]"
   ]
  },
  {
   "cell_type": "code",
   "execution_count": 16,
   "metadata": {
    "collapsed": false
   },
   "outputs": [
    {
     "data": {
      "text/plain": [
       "[[0.11529999999999996,\n",
       "  0.12770000000000004,\n",
       "  0.11699999999999999,\n",
       "  0.1129,\n",
       "  0.11809999999999998,\n",
       "  0.12960000000000005,\n",
       "  0.10729999999999995,\n",
       "  0.12380000000000002,\n",
       "  0.10929999999999995,\n",
       "  0.1261],\n",
       " [0.09550000000000003,\n",
       "  0.0917,\n",
       "  0.09640000000000004,\n",
       "  0.09309999999999996,\n",
       "  0.09630000000000005,\n",
       "  0.10309999999999997,\n",
       "  0.09889999999999999,\n",
       "  0.0998,\n",
       "  0.09289999999999998,\n",
       "  0.08950000000000002],\n",
       " [0.07640000000000002,\n",
       "  0.08030000000000004,\n",
       "  0.08309999999999995,\n",
       "  0.07630000000000003,\n",
       "  0.07820000000000005,\n",
       "  0.07479999999999998,\n",
       "  0.0797,\n",
       "  0.0806,\n",
       "  0.07950000000000002,\n",
       "  0.0726],\n",
       " [0.06589999999999996,\n",
       "  0.06810000000000005,\n",
       "  0.06469999999999998,\n",
       "  0.06140000000000001,\n",
       "  0.06559999999999999,\n",
       "  0.06000000000000005,\n",
       "  0.06399999999999995,\n",
       "  0.06559999999999999,\n",
       "  0.0625,\n",
       "  0.0615]]"
      ]
     },
     "execution_count": 16,
     "metadata": {},
     "output_type": "execute_result"
    }
   ],
   "source": [
    "list_errors"
   ]
  },
  {
   "cell_type": "code",
   "execution_count": null,
   "metadata": {
    "collapsed": false
   },
   "outputs": [],
   "source": [
    "from pandas.tools.plotting import table\n",
    "\n",
    "ax = plt.subplot( frame_on=False) # no visible frame\n",
    "ax.xaxis.set_visible(False)  # hide the x axis\n",
    "ax.yaxis.set_visible(False)  # hide the y axis\n",
    "\n",
    "table(ax, df_total)  # where df is your data frame\n",
    "\n",
    "plt.savefig('normalized_table_results.png')"
   ]
  },
  {
   "cell_type": "code",
   "execution_count": 9,
   "metadata": {
    "collapsed": false
   },
   "outputs": [
    {
     "ename": "NameError",
     "evalue": "name 'df_total' is not defined",
     "output_type": "error",
     "traceback": [
      "\u001b[0;31m---------------------------------------------------------------------------\u001b[0m",
      "\u001b[0;31mNameError\u001b[0m                                 Traceback (most recent call last)",
      "\u001b[0;32m<ipython-input-9-78e8785d0941>\u001b[0m in \u001b[0;36m<module>\u001b[0;34m()\u001b[0m\n\u001b[1;32m      6\u001b[0m \u001b[0mplt\u001b[0m\u001b[0;34m.\u001b[0m\u001b[0mylabel\u001b[0m\u001b[0;34m(\u001b[0m\u001b[0;34m\"Error Rates\"\u001b[0m\u001b[0;34m)\u001b[0m\u001b[0;34m\u001b[0m\u001b[0m\n\u001b[1;32m      7\u001b[0m \u001b[0mplt\u001b[0m\u001b[0;34m.\u001b[0m\u001b[0mxlabel\u001b[0m\u001b[0;34m(\u001b[0m\u001b[0;34m\"n Samples\"\u001b[0m\u001b[0;34m)\u001b[0m\u001b[0;34m\u001b[0m\u001b[0m\n\u001b[0;32m----> 8\u001b[0;31m \u001b[0mplt\u001b[0m\u001b[0;34m.\u001b[0m\u001b[0merrorbar\u001b[0m\u001b[0;34m(\u001b[0m\u001b[0mdf_total\u001b[0m\u001b[0;34m.\u001b[0m\u001b[0mindex\u001b[0m\u001b[0;34m,\u001b[0m \u001b[0mdf_total\u001b[0m\u001b[0;34m.\u001b[0m\u001b[0mMean\u001b[0m\u001b[0;34m,\u001b[0m\u001b[0myerr\u001b[0m\u001b[0;34m=\u001b[0m\u001b[0mdf_total\u001b[0m\u001b[0;34m.\u001b[0m\u001b[0mStandard_Dev\u001b[0m\u001b[0;34m)\u001b[0m\u001b[0;34m\u001b[0m\u001b[0m\n\u001b[0m\u001b[1;32m      9\u001b[0m \u001b[0;34m\u001b[0m\u001b[0m\n\u001b[1;32m     10\u001b[0m \u001b[0mplt\u001b[0m\u001b[0;34m.\u001b[0m\u001b[0msavefig\u001b[0m\u001b[0;34m(\u001b[0m\u001b[0;34m\"Learning_Curve_norm.pdf\"\u001b[0m\u001b[0;34m)\u001b[0m\u001b[0;34m\u001b[0m\u001b[0m\n",
      "\u001b[0;31mNameError\u001b[0m: name 'df_total' is not defined"
     ]
    },
    {
     "data": {
      "image/png": "[encoded data removed]",
      "text/plain": [
       "<matplotlib.figure.Figure at 0x10b8318d0>"
      ]
     },
     "metadata": {},
     "output_type": "display_data"
    }
   ],
   "source": [
    "import matplotlib.pyplot as plt\n",
    "\n",
    "plt.figure(figsize=(12,9))\n",
    "plt.xlim([0,10000])\n",
    "plt.title(\"Learning Curve with Error Bars\")\n",
    "plt.ylabel(\"Error Rates\")\n",
    "plt.xlabel(\"n Samples\")\n",
    "plt.errorbar(df_total.index, df_total.Mean,yerr=df_total.Standard_Dev)\n",
    "\n",
    "plt.savefig(\"Learning_Curve_norm.pdf\")\n"
   ]
  },
  {
   "cell_type": "code",
   "execution_count": 10,
   "metadata": {
    "collapsed": false
   },
   "outputs": [
    {
     "data": {
      "text/plain": [
       "numpy.ndarray"
      ]
     },
     "execution_count": 10,
     "metadata": {},
     "output_type": "execute_result"
    }
   ],
   "source": [
    "from scipy import stats\n",
    "\n",
    "data = pd.DataFrame(ocr['data'].astype(float))\n",
    "df_norm = (data - data.mean()) / (data.max() - data.min())\n",
    "df_norm = df_norm.fillna(0).as_matrix()\n",
    "\n",
    "testdata = pd.DataFrame(ocr['testdata'].astype(float))\n",
    "dft_norm = (testdata - testdata.mean()) / (testdata.max() - testdata.min())\n",
    "dft_norm = dft_norm.fillna(0).as_matrix()\n",
    "\n",
    "type(df_norm)\n"
   ]
  },
  {
   "cell_type": "code",
   "execution_count": null,
   "metadata": {
    "collapsed": true
   },
   "outputs": [],
   "source": []
  },
  {
   "cell_type": "code",
   "execution_count": 11,
   "metadata": {
    "collapsed": false
   },
   "outputs": [
    {
     "ename": "NameError",
     "evalue": "name 'train_data' is not defined",
     "output_type": "error",
     "traceback": [
      "\u001b[0;31m---------------------------------------------------------------------------\u001b[0m",
      "\u001b[0;31mNameError\u001b[0m                                 Traceback (most recent call last)",
      "\u001b[0;32m<ipython-input-11-74249fd1ebf6>\u001b[0m in \u001b[0;36m<module>\u001b[0;34m()\u001b[0m\n\u001b[1;32m      1\u001b[0m \u001b[0;32mfrom\u001b[0m \u001b[0mscipy\u001b[0m\u001b[0;34m.\u001b[0m\u001b[0mspatial\u001b[0m\u001b[0;34m.\u001b[0m\u001b[0mdistance\u001b[0m \u001b[0;32mimport\u001b[0m \u001b[0mcdist\u001b[0m\u001b[0;34m\u001b[0m\u001b[0m\n\u001b[1;32m      2\u001b[0m \u001b[0;34m\u001b[0m\u001b[0m\n\u001b[0;32m----> 3\u001b[0;31m \u001b[0md_matrix\u001b[0m \u001b[0;34m=\u001b[0m \u001b[0mcdist\u001b[0m\u001b[0;34m(\u001b[0m\u001b[0mtrain_data\u001b[0m\u001b[0;34m,\u001b[0m \u001b[0mtest_data\u001b[0m\u001b[0;34m,\u001b[0m \u001b[0;32mlambda\u001b[0m \u001b[0mu\u001b[0m\u001b[0;34m,\u001b[0m \u001b[0mv\u001b[0m\u001b[0;34m:\u001b[0m \u001b[0mnp\u001b[0m\u001b[0;34m.\u001b[0m\u001b[0msqrt\u001b[0m\u001b[0;34m(\u001b[0m\u001b[0;34m(\u001b[0m\u001b[0;34m(\u001b[0m\u001b[0mu\u001b[0m\u001b[0;34m-\u001b[0m\u001b[0mv\u001b[0m\u001b[0;34m)\u001b[0m\u001b[0;34m**\u001b[0m\u001b[0;36m2\u001b[0m\u001b[0;34m)\u001b[0m\u001b[0;34m.\u001b[0m\u001b[0msum\u001b[0m\u001b[0;34m(\u001b[0m\u001b[0;34m)\u001b[0m\u001b[0;34m)\u001b[0m\u001b[0;34m)\u001b[0m\u001b[0;34m\u001b[0m\u001b[0m\n\u001b[0m\u001b[1;32m      4\u001b[0m \u001b[0md_matrix\u001b[0m\u001b[0;34m.\u001b[0m\u001b[0mshape\u001b[0m\u001b[0;34m\u001b[0m\u001b[0m\n",
      "\u001b[0;31mNameError\u001b[0m: name 'train_data' is not defined"
     ]
    }
   ],
   "source": [
    "from scipy.spatial.distance import cdist\n",
    "\n",
    "d_matrix = cdist(train_data, test_data, lambda u, v: np.sqrt(((u-v)**2).sum()))\n",
    "d_matrix.shape"
   ]
  },
  {
   "cell_type": "code",
   "execution_count": 12,
   "metadata": {
    "collapsed": false
   },
   "outputs": [],
   "source": [
    "def e_distance(U,V):\n",
    "    e_distance = np.sqrt(np.linalg.norm(U)**2 + np.linalg.norm(V)**2 - 2*np.dot(U, np.transpose(V)))\n",
    "#    e_distance = np.sqrt(np.sum((U[:,np.newaxis] - V)**2, axis=-1))\n",
    "\n",
    "    print e_distance.shape\n",
    "    print e_distance"
   ]
  },
  {
   "cell_type": "code",
   "execution_count": null,
   "metadata": {
    "collapsed": true
   },
   "outputs": [],
   "source": []
  }
 ],
 "metadata": {
  "kernelspec": {
   "display_name": "Python 2",
   "language": "python",
   "name": "python2"
  },
  "language_info": {
   "codemirror_mode": {
    "name": "ipython",
    "version": 2
   },
   "file_extension": ".py",
   "mimetype": "text/x-python",
   "name": "python",
   "nbconvert_exporter": "python",
   "pygments_lexer": "ipython2",
   "version": "2.7.11"
  }
 },
 "nbformat": 4,
 "nbformat_minor": 0
}
