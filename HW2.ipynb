{
 "cells": [
  {
   "cell_type": "code",
   "execution_count": 4,
   "metadata": {
    "collapsed": false
   },
   "outputs": [],
   "source": [
    "import pandas as pd\n",
    "from scipy .io import loadmat\n",
    "news = loadmat('news (1).mat')\n",
    "vocab_dict = dict(enumerate(l[:-1] for l in open('news.vocab')))"
   ]
  },
  {
   "cell_type": "code",
   "execution_count": 5,
   "metadata": {
    "collapsed": false
   },
   "outputs": [],
   "source": [
    "vocab = list(open('news.vocab'))"
   ]
  },
  {
   "cell_type": "code",
   "execution_count": 113,
   "metadata": {
    "collapsed": false
   },
   "outputs": [],
   "source": [
    "labels = news['labels']\n",
    "test_labels = news['testlabels']\n",
    "data = news['data']"
   ]
  },
  {
   "cell_type": "code",
   "execution_count": 257,
   "metadata": {
    "collapsed": false
   },
   "outputs": [
    {
     "data": {
      "text/plain": [
       "(21, 61189)"
      ]
     },
     "execution_count": 257,
     "metadata": {},
     "output_type": "execute_result"
    }
   ],
   "source": [
    "from scipy.sparse import hstack\n",
    "import scipy.sparse as sps\n",
    "data_train = sps.csr_matrix(hstack((data,labels)))\n",
    "\n",
    "def MLE_laplace(parameter):\n",
    "    return (1 + float(sum(parameter)))/(2 + len(parameter))\n",
    "\n",
    "mu_m = sps.coo_matrix((1,61189))\n",
    "\n",
    "def NaiveBayes(data):\n",
    "    global mu_m\n",
    "    for g, var in itertools.groupby(enumerate(data[:,-1]), key=operator.itemgetter(1)): \n",
    "        mu_m = sps.vstack((mu_m, sps.coo_matrix(data[list([i[0] for i in var])].sum(axis=0))))\n",
    "    return mu_m\n",
    "\n",
    "# my python was messed up most of 2 days :( \n",
    "\n",
    "# Build in building on laplace estimator\n",
    "\n",
    "# Create probabilities from test data by class\n",
    "\n",
    "# Shoot out preds from test data\n",
    "\n",
    "# check accuracy\n",
    "\n",
    "# return words\n"
   ]
  },
  {
   "cell_type": "code",
   "execution_count": 111,
   "metadata": {
    "collapsed": false
   },
   "outputs": [
    {
     "data": {
      "text/plain": [
       "(2, 61189)"
      ]
     },
     "execution_count": 111,
     "metadata": {},
     "output_type": "execute_result"
    }
   ],
   "source": [
    "from scipy.sparse import hstack\n",
    "import scipy.sparse as sps\n",
    "data_train = sps.csr_matrix(hstack((data,labels)))\n",
    "\n",
    "def MLE_laplace(parameter):\n",
    "    return (1 + float(sum(parameter)))/(2 + len(parameter))\n",
    "\n",
    "def groupby_class(data):\n",
    "    y_class = sps.coo_matrix((2,data_all.shape[1]))\n",
    "    for y, param in itertools.groupby(enumerate(data_all[:,-1]), key=operator.itemgetter(1)):\n",
    "        y_class = sps.vstack((y_class, y), format = 'csr')\n",
    "        y_class = sps.vstack((y_class, MLE_laplace(param)), format = 'csr')\n",
    "\n",
    "groupby_class(data_train)\n",
    "\n"
   ]
  }
 ],
 "metadata": {
  "kernelspec": {
   "display_name": "Python 2",
   "language": "python",
   "name": "python2"
  },
  "language_info": {
   "codemirror_mode": {
    "name": "ipython",
    "version": 2
   },
   "file_extension": ".py",
   "mimetype": "text/x-python",
   "name": "python",
   "nbconvert_exporter": "python",
   "pygments_lexer": "ipython2",
   "version": "2.7.11"
  }
 },
 "nbformat": 4,
 "nbformat_minor": 0
}
